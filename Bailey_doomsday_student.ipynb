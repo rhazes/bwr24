{
  "cells": [
    {
      "cell_type": "markdown",
      "metadata": {
        "id": "view-in-github",
        "colab_type": "text"
      },
      "source": [
        "<a href=\"https://colab.research.google.com/github/rhazes/bwr24/blob/main/Bailey_doomsday_student.ipynb\" target=\"_parent\"><img src=\"https://colab.research.google.com/assets/colab-badge.svg\" alt=\"Open In Colab\"/></a>"
      ]
    },
    {
      "cell_type": "markdown",
      "metadata": {
        "id": "kca2kF-6EhuW"
      },
      "source": [
        "Algorithms & Poetry\n",
        "==============\n",
        "\n",
        "\n",
        "Algorithms are recipes for solving problems. They specify the steps, in generic form, that one has to take in order to solve a general class of problem.\n",
        "\n",
        "Often times the hardest part of a problem is recognizing its general form. Once (or if) you can do that then you simply have to know the algorithm (if it exists) that can be applied in order to generate a solution.\n",
        "\n",
        "Intro\n",
        "-----\n",
        "\n",
        "In this project you are going to transcode an algorithm from a poem into code. The algorithm describes how to determine the day of the week for any date. There are some constraints with how far back the algorithm will work for past dates, but it will work for any future date.\n",
        "\n",
        "Assignment questions:\n",
        "------\n",
        "1. What day of the week was your birthday in the year of American Independence?\n",
        "2. What day of the week were you born on?\n",
        "3. What day of the week is/was your birthday this year?\n",
        "4. What day of the week will your birthday be in the year 7623?\n",
        "5. What day of the week will your birthday be on for the next 5 leap years?  \n",
        " **(Write your solution as a function called ```next_5_leap_birthdays()```. Write your code in as structured a manner as you can. For example, you should easily be able to change your code to answer the question with ```n``` leap years in the future.)**\n",
        "\n",
        "\n",
        "\n",
        "Code requirements:\n",
        "------\n",
        "\n",
        "* your code must use pythonic idioms. (This will be covered in class)\n",
        "* your code should use functions to calculate the results for the algorithm. (This will be specified in the different parts of the assignment).\n",
        "* You will submit a Github Repo containing a fork of the Assignment Colab Notebook.\n",
        "\n"
      ]
    },
    {
      "cell_type": "markdown",
      "metadata": {
        "id": "dtPkzdiLls6p"
      },
      "source": [
        "# Doomsday Prompt\n",
        "\n",
        "Motivation\n",
        "-----\n",
        "Watch this video and DO NOT SEARCH ANYTHING ABOUT HOW HE IS DOING IT!  \n",
        "\n",
        "[John Conway Doomsday](https://www.youtube.com/watch?v=T_nQG-Bzxsg)\n",
        "\n"
      ]
    },
    {
      "cell_type": "markdown",
      "source": [
        "## Assignment\n",
        "You will be implementing this algorithm in Python, step by step, from John Conway's poetic description of the algorithm.\n",
        "\n",
        "The Poem\n",
        "\n",
        ">|1| The last of Feb., or Jan will do  \n",
        "|2| (Except that in leap year it's Jan 32).  \n",
        "|3| Then for even months use the month's own day  \n",
        "|4| And for odd ones add 4 or take it away.*  \n",
        "|5| Now to work out your doomsday the orthodox way  \n",
        "|6| Three things you should add to the century day  \n",
        "|7| Dozens, remainders, and fours in the later,  \n",
        "|8| (If you alter by 7 of course it won't matter)  \n",
        "| 9| In Julian times, lackaday lackaday  \n",
        "|10| Zero was Sunday, centuries fell back a day  \n",
        "|11| But Gregorian 4 hundreds are always Tues.  \n",
        "|12| And now centuries extra take us back twos.  \n",
        "\n",
        "---\n",
        "\n",
        ">|13| *According to length or simply remember  \n",
        "|14| you only subtract for September or November.\n"
      ],
      "metadata": {
        "id": "5b-K0qZwS70B"
      }
    },
    {
      "cell_type": "markdown",
      "source": [
        "Python Intro Part 1\n",
        "======\n",
        "\n",
        "Let's leverage your knowledge of Java to fast track learning Python. A great reference for quick starting Python is [Learn X in Y Minutes](https://learnxinyminutes.com)."
      ],
      "metadata": {
        "id": "3agjpX12Y2c6"
      }
    },
    {
      "cell_type": "markdown",
      "source": [
        "Homework 1\n",
        "===\n",
        "\n",
        "1. Implement the following function.\n",
        "```python\n",
        "def leap_year(year:int) -> bool:\n",
        "  \"\"\"given a year in yyyy format return true if it is a\n",
        "  leap year or false otherwise\"\"\"\n",
        "  # you can write the above as:\n",
        "  # def leap_year(year):\n",
        "  # I will use the type hinting style to help your transition\n",
        "  # from Java.\n",
        "\n",
        "  # pass is a keyword that does nothing. I use it here as a placeholder\n",
        "  # so that the interpreter will not throw errors. Simply\n",
        "  # overwrite the pass keyword\n",
        "  pass\n",
        "```\n",
        "\n",
        "2. Create a list of dates from ```[1995,2005]```. Write a loop that calls ```leap_year``` on every value of the list and prints a tuple in the format: ```(yyyy:int,isLeap:bool)```. For example,  \n",
        "\n",
        "```(1901,false)```\n",
        "\n",
        "\n"
      ],
      "metadata": {
        "id": "kXDIg6ZcZieW"
      }
    },
    {
      "cell_type": "code",
      "source": [
        "# lists are arrays\n",
        "foo = [1, 2, 3]\n",
        "\n",
        "foo [0] += 10\n",
        "foo\n",
        "\n",
        "# this is a three tuple\n",
        "bar = [1, 2 ,3]\n",
        "bar [0] + 10"
      ],
      "metadata": {
        "colab": {
          "base_uri": "https://localhost:8080/"
        },
        "id": "YrPWZy1qzA4s",
        "outputId": "d2fea96e-8a7b-4d0a-d897-e03ed9c2e064"
      },
      "execution_count": null,
      "outputs": [
        {
          "output_type": "execute_result",
          "data": {
            "text/plain": [
              "11"
            ]
          },
          "metadata": {},
          "execution_count": 2
        }
      ]
    },
    {
      "cell_type": "code",
      "source": [
        "# function\n",
        "def biz():\n",
        "  print(\"Hello DSA\")\n",
        "\n",
        "biz()\n",
        "\n",
        "def biz2(name):\n",
        "  print(\"hello \" + name)\n",
        "\n",
        "biz2(\"y'all\")"
      ],
      "metadata": {
        "colab": {
          "base_uri": "https://localhost:8080/"
        },
        "id": "4hrQNB6bz6Kh",
        "outputId": "8091871e-1db9-4fc6-81ff-8d9bbf27bb9d"
      },
      "execution_count": null,
      "outputs": [
        {
          "output_type": "stream",
          "name": "stdout",
          "text": [
            "Hello DSA\n",
            "hello y'all\n"
          ]
        }
      ]
    },
    {
      "cell_type": "code",
      "source": [
        "# Conditional\n",
        "\n",
        "foo = 18\n",
        "\n",
        "def is_even(x):\n",
        "  if x % 2 == 0:\n",
        "    return True\n",
        "  else:\n",
        "    return False\n",
        "\n",
        "print(is_even(foo))\n",
        "\n",
        "# loops\n",
        "# java for each\n",
        "for i in range(10):\n",
        "  print(i, is_even(i))"
      ],
      "metadata": {
        "colab": {
          "base_uri": "https://localhost:8080/"
        },
        "id": "hlEOjbGy1BNd",
        "outputId": "82d31bd3-3b64-4db4-a927-25d303112318"
      },
      "execution_count": null,
      "outputs": [
        {
          "output_type": "stream",
          "name": "stdout",
          "text": [
            "True\n",
            "0 True\n",
            "1 False\n",
            "2 True\n",
            "3 False\n",
            "4 True\n",
            "5 False\n",
            "6 True\n",
            "7 False\n",
            "8 True\n",
            "9 False\n"
          ]
        }
      ]
    },
    {
      "cell_type": "code",
      "source": [],
      "metadata": {
        "id": "EciHdBob2o3o"
      },
      "execution_count": null,
      "outputs": []
    },
    {
      "cell_type": "code",
      "source": [
        "years = [1995, 1996, 1997, 1998, 1999, 2000, 2001, 2002, 2003, 2004, 2005]\n",
        "\n",
        "def leap_year(year):\n",
        "  if year % 4 == 0:\n",
        "    return True\n",
        "  else:\n",
        "    return False\n",
        "\n",
        "for year in years:\n",
        "  print(leap_year(year))\n",
        "\n",
        "print(\"Break\")\n",
        "\n",
        "for i in range(len(years)):\n",
        "  print(leap_year(years[i]))"
      ],
      "metadata": {
        "colab": {
          "base_uri": "https://localhost:8080/"
        },
        "id": "nWHufgFvj7Qq",
        "outputId": "9a0a7cff-6502-4342-b942-29ad684b86e2"
      },
      "execution_count": 8,
      "outputs": [
        {
          "output_type": "stream",
          "name": "stdout",
          "text": [
            "False\n",
            "True\n",
            "False\n",
            "False\n",
            "False\n",
            "True\n",
            "False\n",
            "False\n",
            "False\n",
            "True\n",
            "False\n",
            "Break\n",
            "False\n",
            "True\n",
            "False\n",
            "False\n",
            "False\n",
            "True\n",
            "False\n",
            "False\n",
            "False\n",
            "True\n",
            "False\n"
          ]
        }
      ]
    }
  ],
  "metadata": {
    "colab": {
      "provenance": [],
      "include_colab_link": true
    },
    "kernelspec": {
      "display_name": "Python 3 (ipykernel)",
      "language": "python",
      "name": "python3"
    },
    "language_info": {
      "codemirror_mode": {
        "name": "ipython",
        "version": 3
      },
      "file_extension": ".py",
      "mimetype": "text/x-python",
      "name": "python",
      "nbconvert_exporter": "python",
      "pygments_lexer": "ipython3",
      "version": "3.12.3"
    }
  },
  "nbformat": 4,
  "nbformat_minor": 0
}